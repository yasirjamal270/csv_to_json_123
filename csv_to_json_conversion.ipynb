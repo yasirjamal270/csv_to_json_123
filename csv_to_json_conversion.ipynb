{
 "cells": [
  {
   "cell_type": "code",
   "execution_count": 96,
   "id": "c53ca719",
   "metadata": {},
   "outputs": [],
   "source": [
    "import csv\n",
    "import json\n",
    "\n",
    "def clean(text):\n",
    "    return text.strip().replace('â€™', \"'\").replace('Â', '') if text else \"\""
   ]
  },
  {
   "cell_type": "code",
   "execution_count": 97,
   "id": "3e40e45f",
   "metadata": {},
   "outputs": [],
   "source": [
    "# Input and output paths\n",
    "csv_path = \"Constitution_Schedules.csv\"\n",
    "json_path = \"part_Constitution_Schedules.json\"\n",
    "\n",
    "filename = \"Constitution_Schedules.pdf\""
   ]
  },
  {
   "cell_type": "code",
   "execution_count": 98,
   "id": "32157046",
   "metadata": {},
   "outputs": [],
   "source": [
    "# Data structure to hold all pages\n",
    "pages_dict = {}"
   ]
  },
  {
   "cell_type": "code",
   "execution_count": 99,
   "id": "c2e47bad",
   "metadata": {},
   "outputs": [],
   "source": [
    "with open(csv_path, newline='', encoding='utf-8') as csvfile:\n",
    "    reader = csv.DictReader(csvfile)\n",
    "    \n",
    "    for row in reader:\n",
    "        page_num = int(clean(row['Page']))  # assuming this column exists\n",
    "        part = clean(row['Part'])\n",
    "        part_title = clean(row['Chapter'])\n",
    "        art_num = clean(row['Article_Number'])\n",
    "        art_title = clean(row['Article_Title'])\n",
    "        clause_num = clean(row['Clause_Number'])\n",
    "        clause_text = clean(row['Clause_Text'])\n",
    "        sub_clause_letter = clean(row['Sub_Clause_Letter'])\n",
    "        sub_clause_text = clean(row['Sub_Clause_Text'])\n",
    "        amendment = clean(row['Amendments'])\n",
    "        annotation = clean(row['Annotations'])\n",
    "\n",
    "        # Initialize page if not exists\n",
    "        if page_num not in pages_dict:\n",
    "            pages_dict[page_num] = {\n",
    "                \"page_number\": page_num,\n",
    "                \"content\": {\n",
    "                    \"part\": part,\n",
    "                    \"title\": part_title,\n",
    "                    \"articles\": [],\n",
    "                    \"annotations\": []\n",
    "                }\n",
    "            }\n",
    "\n",
    "        page = pages_dict[page_num]\n",
    "        articles = page[\"content\"][\"articles\"]\n",
    "        annotations = page[\"content\"][\"annotations\"]\n",
    "\n",
    "        # Check if annotation for the page exists and add if new\n",
    "        if annotation and annotation not in annotations:\n",
    "            annotations.append(annotation)\n",
    "\n",
    "        # Find article by number or create new\n",
    "        article = next((a for a in articles if a[\"number\"] == art_num), None)\n",
    "        if article is None:\n",
    "            article = {\n",
    "                \"number\": art_num,\n",
    "                \"title\": art_title,\n",
    "            }\n",
    "            # Only add 'clauses' if clauses exist for this article\n",
    "            if clause_num:\n",
    "                article[\"clauses\"] = []\n",
    "            articles.append(article)\n",
    "\n",
    "        # If clause number exists\n",
    "        if clause_num != \"\":\n",
    "            # If sub clause letter is empty, it's a main clause\n",
    "            if sub_clause_letter == \"\":\n",
    "                clause_obj = {\n",
    "                    \"number\": f\"({clause_num})\" if not clause_num.startswith(\"(\") else clause_num,\n",
    "                    \"text\": clause_text\n",
    "                }\n",
    "                if amendment:\n",
    "                    clause_obj[\"amendments\"] = [amendment]\n",
    "                article.setdefault(\"clauses\", []).append(clause_obj)\n",
    "            else:\n",
    "                # It's a sub-clause, attach to last clause in article\n",
    "                if \"clauses\" in article and article[\"clauses\"]:\n",
    "                    last_clause = article[\"clauses\"][-1]\n",
    "                    last_clause.setdefault(\"sub_clauses\", []).append({\n",
    "                        \"letter\": sub_clause_letter,\n",
    "                        \"text\": sub_clause_text\n",
    "                    })"
   ]
  },
  {
   "cell_type": "code",
   "execution_count": 100,
   "id": "89e5ceb6",
   "metadata": {},
   "outputs": [],
   "source": [
    "# Convert pages dict to sorted list by page number\n",
    "pages_list = [pages_dict[k] for k in sorted(pages_dict)]\n",
    "\n",
    "# Final JSON structure\n",
    "final_json = {\n",
    "    \"filename\": filename,\n",
    "    \"pages\": pages_list\n",
    "}"
   ]
  },
  {
   "cell_type": "code",
   "execution_count": 101,
   "id": "4253e2fc",
   "metadata": {},
   "outputs": [
    {
     "name": "stdout",
     "output_type": "stream",
     "text": [
      "✅ JSON successfully written to part_Constitution_Schedules.json\n"
     ]
    }
   ],
   "source": [
    "# Write JSON to file\n",
    "with open(json_path, \"w\", encoding=\"utf-8\") as jsonfile:\n",
    "    json.dump(final_json, jsonfile, indent=2, ensure_ascii=False)\n",
    "\n",
    "print(f\"✅ JSON successfully written to {json_path}\")\n"
   ]
  },
  {
   "cell_type": "code",
   "execution_count": null,
   "id": "daba270b",
   "metadata": {},
   "outputs": [],
   "source": []
  },
  {
   "cell_type": "code",
   "execution_count": null,
   "id": "b3515df6",
   "metadata": {},
   "outputs": [],
   "source": []
  },
  {
   "cell_type": "code",
   "execution_count": null,
   "id": "bf6a9fed",
   "metadata": {},
   "outputs": [],
   "source": []
  },
  {
   "cell_type": "code",
   "execution_count": null,
   "id": "e951e391",
   "metadata": {},
   "outputs": [],
   "source": []
  },
  {
   "cell_type": "code",
   "execution_count": null,
   "id": "0a993287",
   "metadata": {},
   "outputs": [],
   "source": []
  }
 ],
 "metadata": {
  "kernelspec": {
   "display_name": "Python 3 (ipykernel)",
   "language": "python",
   "name": "python3"
  },
  "language_info": {
   "codemirror_mode": {
    "name": "ipython",
    "version": 3
   },
   "file_extension": ".py",
   "mimetype": "text/x-python",
   "name": "python",
   "nbconvert_exporter": "python",
   "pygments_lexer": "ipython3",
   "version": "3.11.4"
  }
 },
 "nbformat": 4,
 "nbformat_minor": 5
}
